{
 "cells": [
  {
   "cell_type": "markdown",
   "metadata": {},
   "source": [
    "# List collections"
   ]
  },
  {
   "cell_type": "code",
   "execution_count": 29,
   "metadata": {},
   "outputs": [
    {
     "data": {
      "text/plain": [
       "['text-embedding-ada-002']"
      ]
     },
     "execution_count": 29,
     "metadata": {},
     "output_type": "execute_result"
    }
   ],
   "source": [
    "from qdrant_client import QdrantClient\n",
    "\n",
    "QDRANT_MAIN_URL = \"b9d11745-9a5f-46bd-a4f1-50c4f74737ab.us-east-1-0.aws.cloud.qdrant.io:6333\"\n",
    "QDRANT_API_KEY = \"xA15yE-Jcv0-Jsmcl_AMzF6UVquNF6D4UL30v3k1GvCipPvEd-2FQQ\"\n",
    "\n",
    "client = QdrantClient(QDRANT_MAIN_URL, api_key=QDRANT_API_KEY)\n",
    "resp = client.get_collections()\n",
    "collections = [c.name for c in resp.collections]\n",
    "collections"
   ]
  },
  {
   "cell_type": "markdown",
   "metadata": {},
   "source": [
    "# Create snapshots remotely"
   ]
  },
  {
   "cell_type": "code",
   "execution_count": 32,
   "metadata": {},
   "outputs": [
    {
     "ename": "UnexpectedResponse",
     "evalue": "Unexpected Response: 404 (Not Found)\nRaw response content:\nb'404 page not found\\n'",
     "output_type": "error",
     "traceback": [
      "\u001b[0;31m---------------------------------------------------------------------------\u001b[0m",
      "\u001b[0;31mUnexpectedResponse\u001b[0m                        Traceback (most recent call last)",
      "Cell \u001b[0;32mIn[32], line 8\u001b[0m\n\u001b[1;32m      6\u001b[0m \u001b[38;5;28;01mfor\u001b[39;00m node_url \u001b[38;5;129;01min\u001b[39;00m QDRANT_NODES:\n\u001b[1;32m      7\u001b[0m     node_client \u001b[38;5;241m=\u001b[39m QdrantClient(node_url, api_key\u001b[38;5;241m=\u001b[39mQDRANT_API_KEY)\n\u001b[0;32m----> 8\u001b[0m     snapshot_info \u001b[38;5;241m=\u001b[39m \u001b[43mnode_client\u001b[49m\u001b[38;5;241;43m.\u001b[39;49m\u001b[43mcreate_snapshot\u001b[49m\u001b[43m(\u001b[49m\u001b[43mcollection_name\u001b[49m\u001b[38;5;241;43m=\u001b[39;49m\u001b[43mcollection\u001b[49m\u001b[43m)\u001b[49m\n\u001b[1;32m     10\u001b[0m     snapshot_url \u001b[38;5;241m=\u001b[39m \u001b[38;5;124mf\u001b[39m\u001b[38;5;124m\"\u001b[39m\u001b[38;5;132;01m{\u001b[39;00mnode_url\u001b[38;5;132;01m}\u001b[39;00m\u001b[38;5;124m/collections/\u001b[39m\u001b[38;5;132;01m{\u001b[39;00mcollection\u001b[38;5;132;01m}\u001b[39;00m\u001b[38;5;124m/snapshots/\u001b[39m\u001b[38;5;132;01m{\u001b[39;00msnapshot_info\u001b[38;5;241m.\u001b[39mname\u001b[38;5;132;01m}\u001b[39;00m\u001b[38;5;124m\"\u001b[39m\n\u001b[1;32m     11\u001b[0m     urls\u001b[38;5;241m.\u001b[39mappend(snapshot_url)\n",
      "File \u001b[0;32m~/Documents/Workspace/morriz/srv/.venv/lib/python3.11/site-packages/qdrant_client/qdrant_client.py:2084\u001b[0m, in \u001b[0;36mQdrantClient.create_snapshot\u001b[0;34m(self, collection_name, wait, **kwargs)\u001b[0m\n\u001b[1;32m   2070\u001b[0m \u001b[38;5;250m\u001b[39m\u001b[38;5;124;03m\"\"\"Create snapshot for a given collection.\u001b[39;00m\n\u001b[1;32m   2071\u001b[0m \n\u001b[1;32m   2072\u001b[0m \u001b[38;5;124;03mArgs:\u001b[39;00m\n\u001b[0;32m   (...)\u001b[0m\n\u001b[1;32m   2080\u001b[0m \u001b[38;5;124;03m    Snapshot description\u001b[39;00m\n\u001b[1;32m   2081\u001b[0m \u001b[38;5;124;03m\"\"\"\u001b[39;00m\n\u001b[1;32m   2082\u001b[0m \u001b[38;5;28;01massert\u001b[39;00m \u001b[38;5;28mlen\u001b[39m(kwargs) \u001b[38;5;241m==\u001b[39m \u001b[38;5;241m0\u001b[39m, \u001b[38;5;124mf\u001b[39m\u001b[38;5;124m\"\u001b[39m\u001b[38;5;124mUnknown arguments: \u001b[39m\u001b[38;5;132;01m{\u001b[39;00m\u001b[38;5;28mlist\u001b[39m(kwargs\u001b[38;5;241m.\u001b[39mkeys())\u001b[38;5;132;01m}\u001b[39;00m\u001b[38;5;124m\"\u001b[39m\n\u001b[0;32m-> 2084\u001b[0m \u001b[38;5;28;01mreturn\u001b[39;00m \u001b[38;5;28;43mself\u001b[39;49m\u001b[38;5;241;43m.\u001b[39;49m\u001b[43m_client\u001b[49m\u001b[38;5;241;43m.\u001b[39;49m\u001b[43mcreate_snapshot\u001b[49m\u001b[43m(\u001b[49m\u001b[43mcollection_name\u001b[49m\u001b[38;5;241;43m=\u001b[39;49m\u001b[43mcollection_name\u001b[49m\u001b[43m,\u001b[49m\u001b[43m \u001b[49m\u001b[43mwait\u001b[49m\u001b[38;5;241;43m=\u001b[39;49m\u001b[43mwait\u001b[49m\u001b[43m,\u001b[49m\u001b[43m \u001b[49m\u001b[38;5;241;43m*\u001b[39;49m\u001b[38;5;241;43m*\u001b[39;49m\u001b[43mkwargs\u001b[49m\u001b[43m)\u001b[49m\n",
      "File \u001b[0;32m~/Documents/Workspace/morriz/srv/.venv/lib/python3.11/site-packages/qdrant_client/qdrant_remote.py:2544\u001b[0m, in \u001b[0;36mQdrantRemote.create_snapshot\u001b[0;34m(self, collection_name, wait, **kwargs)\u001b[0m\n\u001b[1;32m   2539\u001b[0m     snapshot \u001b[38;5;241m=\u001b[39m \u001b[38;5;28mself\u001b[39m\u001b[38;5;241m.\u001b[39mgrpc_snapshots\u001b[38;5;241m.\u001b[39mCreate(\n\u001b[1;32m   2540\u001b[0m         grpc\u001b[38;5;241m.\u001b[39mCreateSnapshotRequest(collection_name\u001b[38;5;241m=\u001b[39mcollection_name)\n\u001b[1;32m   2541\u001b[0m     )\u001b[38;5;241m.\u001b[39msnapshot_description\n\u001b[1;32m   2542\u001b[0m     \u001b[38;5;28;01mreturn\u001b[39;00m GrpcToRest\u001b[38;5;241m.\u001b[39mconvert_snapshot_description(snapshot)\n\u001b[0;32m-> 2544\u001b[0m \u001b[38;5;28;01mreturn\u001b[39;00m \u001b[38;5;28;43mself\u001b[39;49m\u001b[38;5;241;43m.\u001b[39;49m\u001b[43mopenapi_client\u001b[49m\u001b[38;5;241;43m.\u001b[39;49m\u001b[43mcollections_api\u001b[49m\u001b[38;5;241;43m.\u001b[39;49m\u001b[43mcreate_snapshot\u001b[49m\u001b[43m(\u001b[49m\n\u001b[1;32m   2545\u001b[0m \u001b[43m    \u001b[49m\u001b[43mcollection_name\u001b[49m\u001b[38;5;241;43m=\u001b[39;49m\u001b[43mcollection_name\u001b[49m\u001b[43m,\u001b[49m\u001b[43m \u001b[49m\u001b[43mwait\u001b[49m\u001b[38;5;241;43m=\u001b[39;49m\u001b[43mwait\u001b[49m\n\u001b[1;32m   2546\u001b[0m \u001b[43m\u001b[49m\u001b[43m)\u001b[49m\u001b[38;5;241m.\u001b[39mresult\n",
      "File \u001b[0;32m~/Documents/Workspace/morriz/srv/.venv/lib/python3.11/site-packages/qdrant_client/http/api/collections_api.py:1228\u001b[0m, in \u001b[0;36mSyncCollectionsApi.create_snapshot\u001b[0;34m(self, collection_name, wait)\u001b[0m\n\u001b[1;32m   1220\u001b[0m \u001b[38;5;28;01mdef\u001b[39;00m \u001b[38;5;21mcreate_snapshot\u001b[39m(\n\u001b[1;32m   1221\u001b[0m     \u001b[38;5;28mself\u001b[39m,\n\u001b[1;32m   1222\u001b[0m     collection_name: \u001b[38;5;28mstr\u001b[39m,\n\u001b[1;32m   1223\u001b[0m     wait: \u001b[38;5;28mbool\u001b[39m \u001b[38;5;241m=\u001b[39m \u001b[38;5;28;01mNone\u001b[39;00m,\n\u001b[1;32m   1224\u001b[0m ) \u001b[38;5;241m-\u001b[39m\u001b[38;5;241m>\u001b[39m m\u001b[38;5;241m.\u001b[39mInlineResponse20012:\n\u001b[1;32m   1225\u001b[0m \u001b[38;5;250m    \u001b[39m\u001b[38;5;124;03m\"\"\"\u001b[39;00m\n\u001b[1;32m   1226\u001b[0m \u001b[38;5;124;03m    Create new snapshot for a collection\u001b[39;00m\n\u001b[1;32m   1227\u001b[0m \u001b[38;5;124;03m    \"\"\"\u001b[39;00m\n\u001b[0;32m-> 1228\u001b[0m     \u001b[38;5;28;01mreturn\u001b[39;00m \u001b[38;5;28;43mself\u001b[39;49m\u001b[38;5;241;43m.\u001b[39;49m\u001b[43m_build_for_create_snapshot\u001b[49m\u001b[43m(\u001b[49m\n\u001b[1;32m   1229\u001b[0m \u001b[43m        \u001b[49m\u001b[43mcollection_name\u001b[49m\u001b[38;5;241;43m=\u001b[39;49m\u001b[43mcollection_name\u001b[49m\u001b[43m,\u001b[49m\n\u001b[1;32m   1230\u001b[0m \u001b[43m        \u001b[49m\u001b[43mwait\u001b[49m\u001b[38;5;241;43m=\u001b[39;49m\u001b[43mwait\u001b[49m\u001b[43m,\u001b[49m\n\u001b[1;32m   1231\u001b[0m \u001b[43m    \u001b[49m\u001b[43m)\u001b[49m\n",
      "File \u001b[0;32m~/Documents/Workspace/morriz/srv/.venv/lib/python3.11/site-packages/qdrant_client/http/api/collections_api.py:233\u001b[0m, in \u001b[0;36m_CollectionsApi._build_for_create_snapshot\u001b[0;34m(self, collection_name, wait)\u001b[0m\n\u001b[1;32m    230\u001b[0m     query_params[\u001b[38;5;124m\"\u001b[39m\u001b[38;5;124mwait\u001b[39m\u001b[38;5;124m\"\u001b[39m] \u001b[38;5;241m=\u001b[39m \u001b[38;5;28mstr\u001b[39m(wait)\u001b[38;5;241m.\u001b[39mlower()\n\u001b[1;32m    232\u001b[0m headers \u001b[38;5;241m=\u001b[39m {}\n\u001b[0;32m--> 233\u001b[0m \u001b[38;5;28;01mreturn\u001b[39;00m \u001b[38;5;28;43mself\u001b[39;49m\u001b[38;5;241;43m.\u001b[39;49m\u001b[43mapi_client\u001b[49m\u001b[38;5;241;43m.\u001b[39;49m\u001b[43mrequest\u001b[49m\u001b[43m(\u001b[49m\n\u001b[1;32m    234\u001b[0m \u001b[43m    \u001b[49m\u001b[43mtype_\u001b[49m\u001b[38;5;241;43m=\u001b[39;49m\u001b[43mm\u001b[49m\u001b[38;5;241;43m.\u001b[39;49m\u001b[43mInlineResponse20012\u001b[49m\u001b[43m,\u001b[49m\n\u001b[1;32m    235\u001b[0m \u001b[43m    \u001b[49m\u001b[43mmethod\u001b[49m\u001b[38;5;241;43m=\u001b[39;49m\u001b[38;5;124;43m\"\u001b[39;49m\u001b[38;5;124;43mPOST\u001b[39;49m\u001b[38;5;124;43m\"\u001b[39;49m\u001b[43m,\u001b[49m\n\u001b[1;32m    236\u001b[0m \u001b[43m    \u001b[49m\u001b[43murl\u001b[49m\u001b[38;5;241;43m=\u001b[39;49m\u001b[38;5;124;43m\"\u001b[39;49m\u001b[38;5;124;43m/collections/\u001b[39;49m\u001b[38;5;132;43;01m{collection_name}\u001b[39;49;00m\u001b[38;5;124;43m/snapshots\u001b[39;49m\u001b[38;5;124;43m\"\u001b[39;49m\u001b[43m,\u001b[49m\n\u001b[1;32m    237\u001b[0m \u001b[43m    \u001b[49m\u001b[43mheaders\u001b[49m\u001b[38;5;241;43m=\u001b[39;49m\u001b[43mheaders\u001b[49m\u001b[43m \u001b[49m\u001b[38;5;28;43;01mif\u001b[39;49;00m\u001b[43m \u001b[49m\u001b[43mheaders\u001b[49m\u001b[43m \u001b[49m\u001b[38;5;28;43;01melse\u001b[39;49;00m\u001b[43m \u001b[49m\u001b[38;5;28;43;01mNone\u001b[39;49;00m\u001b[43m,\u001b[49m\n\u001b[1;32m    238\u001b[0m \u001b[43m    \u001b[49m\u001b[43mpath_params\u001b[49m\u001b[38;5;241;43m=\u001b[39;49m\u001b[43mpath_params\u001b[49m\u001b[43m,\u001b[49m\n\u001b[1;32m    239\u001b[0m \u001b[43m    \u001b[49m\u001b[43mparams\u001b[49m\u001b[38;5;241;43m=\u001b[39;49m\u001b[43mquery_params\u001b[49m\u001b[43m,\u001b[49m\n\u001b[1;32m    240\u001b[0m \u001b[43m\u001b[49m\u001b[43m)\u001b[49m\n",
      "File \u001b[0;32m~/Documents/Workspace/morriz/srv/.venv/lib/python3.11/site-packages/qdrant_client/http/api_client.py:76\u001b[0m, in \u001b[0;36mApiClient.request\u001b[0;34m(self, type_, method, url, path_params, **kwargs)\u001b[0m\n\u001b[1;32m     74\u001b[0m     kwargs[\u001b[38;5;124m\"\u001b[39m\u001b[38;5;124mtimeout\u001b[39m\u001b[38;5;124m\"\u001b[39m] \u001b[38;5;241m=\u001b[39m \u001b[38;5;28mint\u001b[39m(kwargs[\u001b[38;5;124m\"\u001b[39m\u001b[38;5;124mparams\u001b[39m\u001b[38;5;124m\"\u001b[39m][\u001b[38;5;124m\"\u001b[39m\u001b[38;5;124mtimeout\u001b[39m\u001b[38;5;124m\"\u001b[39m])\n\u001b[1;32m     75\u001b[0m request \u001b[38;5;241m=\u001b[39m \u001b[38;5;28mself\u001b[39m\u001b[38;5;241m.\u001b[39m_client\u001b[38;5;241m.\u001b[39mbuild_request(method, url, \u001b[38;5;241m*\u001b[39m\u001b[38;5;241m*\u001b[39mkwargs)\n\u001b[0;32m---> 76\u001b[0m \u001b[38;5;28;01mreturn\u001b[39;00m \u001b[38;5;28;43mself\u001b[39;49m\u001b[38;5;241;43m.\u001b[39;49m\u001b[43msend\u001b[49m\u001b[43m(\u001b[49m\u001b[43mrequest\u001b[49m\u001b[43m,\u001b[49m\u001b[43m \u001b[49m\u001b[43mtype_\u001b[49m\u001b[43m)\u001b[49m\n",
      "File \u001b[0;32m~/Documents/Workspace/morriz/srv/.venv/lib/python3.11/site-packages/qdrant_client/http/api_client.py:99\u001b[0m, in \u001b[0;36mApiClient.send\u001b[0;34m(self, request, type_)\u001b[0m\n\u001b[1;32m     97\u001b[0m     \u001b[38;5;28;01mexcept\u001b[39;00m ValidationError \u001b[38;5;28;01mas\u001b[39;00m e:\n\u001b[1;32m     98\u001b[0m         \u001b[38;5;28;01mraise\u001b[39;00m ResponseHandlingException(e)\n\u001b[0;32m---> 99\u001b[0m \u001b[38;5;28;01mraise\u001b[39;00m UnexpectedResponse\u001b[38;5;241m.\u001b[39mfor_response(response)\n",
      "\u001b[0;31mUnexpectedResponse\u001b[0m: Unexpected Response: 404 (Not Found)\nRaw response content:\nb'404 page not found\\n'"
     ]
    }
   ],
   "source": [
    "QDRANT_NODES = [\"node-0-b9d11745-9a5f-46bd-a4f1-50c4f74737ab.us-east-1-0.aws.cloud.qdrant.io:6333\"]\n",
    "\n",
    "snapshot_urls = {}\n",
    "for collection in collections:\n",
    "    urls = []\n",
    "    for node_url in QDRANT_NODES:\n",
    "        node_client = QdrantClient(node_url, api_key=QDRANT_API_KEY)\n",
    "        snapshot_info = node_client.create_snapshot(collection_name=collection)\n",
    "\n",
    "        snapshot_url = f\"{node_url}/collections/{collection}/snapshots/{snapshot_info.name}\"\n",
    "        urls.append(snapshot_url)\n",
    "        \n",
    "    snapshot_urls[collection] = urls\n",
    "    \n",
    "snapshot_urls"
   ]
  },
  {
   "cell_type": "markdown",
   "metadata": {},
   "source": [
    "# Download snapshots locally"
   ]
  },
  {
   "cell_type": "code",
   "execution_count": null,
   "metadata": {},
   "outputs": [],
   "source": [
    "import requests\n",
    "import os\n",
    "\n",
    "\n",
    "# Create a directory to store snapshots\n",
    "os.makedirs(\"snapshots\", exist_ok=True)\n",
    "\n",
    "local_snapshot_paths = {}\n",
    "for collection in collections:\n",
    "    paths = []\n",
    "    for snapshot_url in snapshot_urls:\n",
    "        snapshot_name = os.path.basename(snapshot_url)\n",
    "        local_snapshot_path = os.path.join(\"snapshots\", snapshot_name)\n",
    "\n",
    "        response = requests.get(snapshot_url, headers={\"api-key\": QDRANT_API_KEY})\n",
    "        with open(local_snapshot_path, \"wb\") as f:\n",
    "            response.raise_for_status()\n",
    "            f.write(response.content)\n",
    "\n",
    "        paths.append(local_snapshot_path)\n",
    "        \n",
    "    local_snapshot_paths[collection] = paths\n",
    "\n",
    "local_snapshot_paths"
   ]
  },
  {
   "cell_type": "markdown",
   "metadata": {},
   "source": [
    "# Import local snapshots"
   ]
  },
  {
   "cell_type": "code",
   "execution_count": null,
   "metadata": {},
   "outputs": [],
   "source": [
    "NODE_URL = 'https://qdrant.srv.instrukt.ai'\n",
    "\n",
    "for collection in collections:\n",
    "    paths = local_snapshot_paths[collection]\n",
    "    for snapshot_path in paths:\n",
    "        snapshot_name = os.path.basename(snapshot_path)\n",
    "        requests.post(\n",
    "            f\"{NODE_URL}/collections/{collection}/snapshots/upload?priority=snapshot\",\n",
    "            headers={\n",
    "                \"api-key\": QDRANT_API_KEY,\n",
    "            },\n",
    "            files={\"snapshot\": (snapshot_name, open(snapshot_path, \"rb\"))},\n",
    "        )"
   ]
  }
 ],
 "metadata": {
  "kernelspec": {
   "display_name": ".venv",
   "language": "python",
   "name": "python3"
  },
  "language_info": {
   "codemirror_mode": {
    "name": "ipython",
    "version": 3
   },
   "file_extension": ".py",
   "mimetype": "text/x-python",
   "name": "python",
   "nbconvert_exporter": "python",
   "pygments_lexer": "ipython3",
   "version": "3.11.6"
  }
 },
 "nbformat": 4,
 "nbformat_minor": 2
}
