{
 "cells": [
  {
   "cell_type": "markdown",
   "metadata": {},
   "source": [
    "# List collections"
   ]
  },
  {
   "cell_type": "code",
   "execution_count": 24,
   "metadata": {},
   "outputs": [
    {
     "data": {
      "text/plain": [
       "['text-embedding-ada-002']"
      ]
     },
     "execution_count": 24,
     "metadata": {},
     "output_type": "execute_result"
    }
   ],
   "source": [
    "from qdrant_client import QdrantClient\n",
    "\n",
    "QDRANT_MAIN_URL = \"b9d11745-9a5f-46bd-a4f1-50c4f74737ab.us-east-1-0.aws.cloud.qdrant.io:6333\"\n",
    "QDRANT_API_KEY = \"xA15yE-Jcv0-Jsmcl_AMzF6UVquNF6D4UL30v3k1GvCipPvEd-2FQQ\"\n",
    "\n",
    "client = QdrantClient(QDRANT_MAIN_URL, api_key=QDRANT_API_KEY)\n",
    "resp = client.get_collections()\n",
    "collections = [c.name for c in resp.collections]\n",
    "collections"
   ]
  },
  {
   "cell_type": "markdown",
   "metadata": {},
   "source": [
    "# Create snapshots remotely"
   ]
  },
  {
   "cell_type": "code",
   "execution_count": 28,
   "metadata": {},
   "outputs": [
    {
     "ename": "_InactiveRpcError",
     "evalue": "<_InactiveRpcError of RPC that terminated with:\n\tstatus = StatusCode.UNIMPLEMENTED\n\tdetails = \"Received http2 header with status: 404\"\n\tdebug_error_string = \"UNKNOWN:Error received from peer  {grpc_message:\"Received http2 header with status: 404\", grpc_status:12, created_time:\"2024-03-31T14:15:07.434651+02:00\"}\"\n>",
     "output_type": "error",
     "traceback": [
      "\u001b[0;31m---------------------------------------------------------------------------\u001b[0m",
      "\u001b[0;31m_InactiveRpcError\u001b[0m                         Traceback (most recent call last)",
      "Cell \u001b[0;32mIn[28], line 8\u001b[0m\n\u001b[1;32m      6\u001b[0m \u001b[38;5;28;01mfor\u001b[39;00m node_url \u001b[38;5;129;01min\u001b[39;00m QDRANT_NODES:\n\u001b[1;32m      7\u001b[0m     node_client \u001b[38;5;241m=\u001b[39m QdrantClient(node_url, api_key\u001b[38;5;241m=\u001b[39mQDRANT_API_KEY, prefer_grpc\u001b[38;5;241m=\u001b[39m\u001b[38;5;28;01mTrue\u001b[39;00m)\n\u001b[0;32m----> 8\u001b[0m     snapshot_info \u001b[38;5;241m=\u001b[39m \u001b[43mnode_client\u001b[49m\u001b[38;5;241;43m.\u001b[39;49m\u001b[43mcreate_snapshot\u001b[49m\u001b[43m(\u001b[49m\u001b[43mcollection_name\u001b[49m\u001b[38;5;241;43m=\u001b[39;49m\u001b[43mcollection\u001b[49m\u001b[43m)\u001b[49m\n\u001b[1;32m     10\u001b[0m     snapshot_url \u001b[38;5;241m=\u001b[39m \u001b[38;5;124mf\u001b[39m\u001b[38;5;124m\"\u001b[39m\u001b[38;5;132;01m{\u001b[39;00mnode_url\u001b[38;5;132;01m}\u001b[39;00m\u001b[38;5;124m/collections/\u001b[39m\u001b[38;5;132;01m{\u001b[39;00mcollection\u001b[38;5;132;01m}\u001b[39;00m\u001b[38;5;124m/snapshots/\u001b[39m\u001b[38;5;132;01m{\u001b[39;00msnapshot_info\u001b[38;5;241m.\u001b[39mname\u001b[38;5;132;01m}\u001b[39;00m\u001b[38;5;124m\"\u001b[39m\n\u001b[1;32m     11\u001b[0m     urls\u001b[38;5;241m.\u001b[39mappend(snapshot_url)\n",
      "File \u001b[0;32m~/Documents/Workspace/morriz/srv/.venv/lib/python3.11/site-packages/qdrant_client/qdrant_client.py:2084\u001b[0m, in \u001b[0;36mQdrantClient.create_snapshot\u001b[0;34m(self, collection_name, wait, **kwargs)\u001b[0m\n\u001b[1;32m   2070\u001b[0m \u001b[38;5;250m\u001b[39m\u001b[38;5;124;03m\"\"\"Create snapshot for a given collection.\u001b[39;00m\n\u001b[1;32m   2071\u001b[0m \n\u001b[1;32m   2072\u001b[0m \u001b[38;5;124;03mArgs:\u001b[39;00m\n\u001b[0;32m   (...)\u001b[0m\n\u001b[1;32m   2080\u001b[0m \u001b[38;5;124;03m    Snapshot description\u001b[39;00m\n\u001b[1;32m   2081\u001b[0m \u001b[38;5;124;03m\"\"\"\u001b[39;00m\n\u001b[1;32m   2082\u001b[0m \u001b[38;5;28;01massert\u001b[39;00m \u001b[38;5;28mlen\u001b[39m(kwargs) \u001b[38;5;241m==\u001b[39m \u001b[38;5;241m0\u001b[39m, \u001b[38;5;124mf\u001b[39m\u001b[38;5;124m\"\u001b[39m\u001b[38;5;124mUnknown arguments: \u001b[39m\u001b[38;5;132;01m{\u001b[39;00m\u001b[38;5;28mlist\u001b[39m(kwargs\u001b[38;5;241m.\u001b[39mkeys())\u001b[38;5;132;01m}\u001b[39;00m\u001b[38;5;124m\"\u001b[39m\n\u001b[0;32m-> 2084\u001b[0m \u001b[38;5;28;01mreturn\u001b[39;00m \u001b[38;5;28;43mself\u001b[39;49m\u001b[38;5;241;43m.\u001b[39;49m\u001b[43m_client\u001b[49m\u001b[38;5;241;43m.\u001b[39;49m\u001b[43mcreate_snapshot\u001b[49m\u001b[43m(\u001b[49m\u001b[43mcollection_name\u001b[49m\u001b[38;5;241;43m=\u001b[39;49m\u001b[43mcollection_name\u001b[49m\u001b[43m,\u001b[49m\u001b[43m \u001b[49m\u001b[43mwait\u001b[49m\u001b[38;5;241;43m=\u001b[39;49m\u001b[43mwait\u001b[49m\u001b[43m,\u001b[49m\u001b[43m \u001b[49m\u001b[38;5;241;43m*\u001b[39;49m\u001b[38;5;241;43m*\u001b[39;49m\u001b[43mkwargs\u001b[49m\u001b[43m)\u001b[49m\n",
      "File \u001b[0;32m~/Documents/Workspace/morriz/srv/.venv/lib/python3.11/site-packages/qdrant_client/qdrant_remote.py:2539\u001b[0m, in \u001b[0;36mQdrantRemote.create_snapshot\u001b[0;34m(self, collection_name, wait, **kwargs)\u001b[0m\n\u001b[1;32m   2535\u001b[0m \u001b[38;5;28;01mdef\u001b[39;00m \u001b[38;5;21mcreate_snapshot\u001b[39m(\n\u001b[1;32m   2536\u001b[0m     \u001b[38;5;28mself\u001b[39m, collection_name: \u001b[38;5;28mstr\u001b[39m, wait: \u001b[38;5;28mbool\u001b[39m \u001b[38;5;241m=\u001b[39m \u001b[38;5;28;01mTrue\u001b[39;00m, \u001b[38;5;241m*\u001b[39m\u001b[38;5;241m*\u001b[39mkwargs: Any\n\u001b[1;32m   2537\u001b[0m ) \u001b[38;5;241m-\u001b[39m\u001b[38;5;241m>\u001b[39m Optional[types\u001b[38;5;241m.\u001b[39mSnapshotDescription]:\n\u001b[1;32m   2538\u001b[0m     \u001b[38;5;28;01mif\u001b[39;00m \u001b[38;5;28mself\u001b[39m\u001b[38;5;241m.\u001b[39m_prefer_grpc:\n\u001b[0;32m-> 2539\u001b[0m         snapshot \u001b[38;5;241m=\u001b[39m \u001b[38;5;28;43mself\u001b[39;49m\u001b[38;5;241;43m.\u001b[39;49m\u001b[43mgrpc_snapshots\u001b[49m\u001b[38;5;241;43m.\u001b[39;49m\u001b[43mCreate\u001b[49m\u001b[43m(\u001b[49m\n\u001b[1;32m   2540\u001b[0m \u001b[43m            \u001b[49m\u001b[43mgrpc\u001b[49m\u001b[38;5;241;43m.\u001b[39;49m\u001b[43mCreateSnapshotRequest\u001b[49m\u001b[43m(\u001b[49m\u001b[43mcollection_name\u001b[49m\u001b[38;5;241;43m=\u001b[39;49m\u001b[43mcollection_name\u001b[49m\u001b[43m)\u001b[49m\n\u001b[1;32m   2541\u001b[0m \u001b[43m        \u001b[49m\u001b[43m)\u001b[49m\u001b[38;5;241m.\u001b[39msnapshot_description\n\u001b[1;32m   2542\u001b[0m         \u001b[38;5;28;01mreturn\u001b[39;00m GrpcToRest\u001b[38;5;241m.\u001b[39mconvert_snapshot_description(snapshot)\n\u001b[1;32m   2544\u001b[0m     \u001b[38;5;28;01mreturn\u001b[39;00m \u001b[38;5;28mself\u001b[39m\u001b[38;5;241m.\u001b[39mopenapi_client\u001b[38;5;241m.\u001b[39mcollections_api\u001b[38;5;241m.\u001b[39mcreate_snapshot(\n\u001b[1;32m   2545\u001b[0m         collection_name\u001b[38;5;241m=\u001b[39mcollection_name, wait\u001b[38;5;241m=\u001b[39mwait\n\u001b[1;32m   2546\u001b[0m     )\u001b[38;5;241m.\u001b[39mresult\n",
      "File \u001b[0;32m~/Documents/Workspace/morriz/srv/.venv/lib/python3.11/site-packages/grpc/_channel.py:1176\u001b[0m, in \u001b[0;36m_UnaryUnaryMultiCallable.__call__\u001b[0;34m(self, request, timeout, metadata, credentials, wait_for_ready, compression)\u001b[0m\n\u001b[1;32m   1161\u001b[0m \u001b[38;5;28;01mdef\u001b[39;00m \u001b[38;5;21m__call__\u001b[39m(\n\u001b[1;32m   1162\u001b[0m     \u001b[38;5;28mself\u001b[39m,\n\u001b[1;32m   1163\u001b[0m     request: Any,\n\u001b[0;32m   (...)\u001b[0m\n\u001b[1;32m   1168\u001b[0m     compression: Optional[grpc\u001b[38;5;241m.\u001b[39mCompression] \u001b[38;5;241m=\u001b[39m \u001b[38;5;28;01mNone\u001b[39;00m,\n\u001b[1;32m   1169\u001b[0m ) \u001b[38;5;241m-\u001b[39m\u001b[38;5;241m>\u001b[39m Any:\n\u001b[1;32m   1170\u001b[0m     (\n\u001b[1;32m   1171\u001b[0m         state,\n\u001b[1;32m   1172\u001b[0m         call,\n\u001b[1;32m   1173\u001b[0m     ) \u001b[38;5;241m=\u001b[39m \u001b[38;5;28mself\u001b[39m\u001b[38;5;241m.\u001b[39m_blocking(\n\u001b[1;32m   1174\u001b[0m         request, timeout, metadata, credentials, wait_for_ready, compression\n\u001b[1;32m   1175\u001b[0m     )\n\u001b[0;32m-> 1176\u001b[0m     \u001b[38;5;28;01mreturn\u001b[39;00m \u001b[43m_end_unary_response_blocking\u001b[49m\u001b[43m(\u001b[49m\u001b[43mstate\u001b[49m\u001b[43m,\u001b[49m\u001b[43m \u001b[49m\u001b[43mcall\u001b[49m\u001b[43m,\u001b[49m\u001b[43m \u001b[49m\u001b[38;5;28;43;01mFalse\u001b[39;49;00m\u001b[43m,\u001b[49m\u001b[43m \u001b[49m\u001b[38;5;28;43;01mNone\u001b[39;49;00m\u001b[43m)\u001b[49m\n",
      "File \u001b[0;32m~/Documents/Workspace/morriz/srv/.venv/lib/python3.11/site-packages/grpc/_channel.py:1005\u001b[0m, in \u001b[0;36m_end_unary_response_blocking\u001b[0;34m(state, call, with_call, deadline)\u001b[0m\n\u001b[1;32m   1003\u001b[0m         \u001b[38;5;28;01mreturn\u001b[39;00m state\u001b[38;5;241m.\u001b[39mresponse\n\u001b[1;32m   1004\u001b[0m \u001b[38;5;28;01melse\u001b[39;00m:\n\u001b[0;32m-> 1005\u001b[0m     \u001b[38;5;28;01mraise\u001b[39;00m _InactiveRpcError(state)\n",
      "\u001b[0;31m_InactiveRpcError\u001b[0m: <_InactiveRpcError of RPC that terminated with:\n\tstatus = StatusCode.UNIMPLEMENTED\n\tdetails = \"Received http2 header with status: 404\"\n\tdebug_error_string = \"UNKNOWN:Error received from peer  {grpc_message:\"Received http2 header with status: 404\", grpc_status:12, created_time:\"2024-03-31T14:15:07.434651+02:00\"}\"\n>"
     ]
    }
   ],
   "source": [
    "QDRANT_NODES = [\"node-0-b9d11745-9a5f-46bd-a4f1-50c4f74737ab.us-east-1-0.aws.cloud.qdrant.io:6333\"]\n",
    "\n",
    "snapshot_urls = {}\n",
    "for collection in collections:\n",
    "    urls = []\n",
    "    for node_url in QDRANT_NODES:\n",
    "        node_client = QdrantClient(node_url, api_key=QDRANT_API_KEY, prefer_grpc=True)\n",
    "        snapshot_info = node_client.create_snapshot(collection_name=collection)\n",
    "\n",
    "        snapshot_url = f\"{node_url}/collections/{collection}/snapshots/{snapshot_info.name}\"\n",
    "        urls.append(snapshot_url)\n",
    "        \n",
    "    snapshot_urls[collection] = urls\n",
    "    \n",
    "snapshot_urls"
   ]
  },
  {
   "cell_type": "markdown",
   "metadata": {},
   "source": [
    "# Download snapshots locally"
   ]
  },
  {
   "cell_type": "code",
   "execution_count": null,
   "metadata": {},
   "outputs": [],
   "source": [
    "import requests\n",
    "import os\n",
    "\n",
    "\n",
    "# Create a directory to store snapshots\n",
    "os.makedirs(\"snapshots\", exist_ok=True)\n",
    "\n",
    "local_snapshot_paths = {}\n",
    "for collection in collections:\n",
    "    paths = []\n",
    "    for snapshot_url in snapshot_urls:\n",
    "        snapshot_name = os.path.basename(snapshot_url)\n",
    "        local_snapshot_path = os.path.join(\"snapshots\", snapshot_name)\n",
    "\n",
    "        response = requests.get(snapshot_url, headers={\"api-key\": QDRANT_API_KEY})\n",
    "        with open(local_snapshot_path, \"wb\") as f:\n",
    "            response.raise_for_status()\n",
    "            f.write(response.content)\n",
    "\n",
    "        paths.append(local_snapshot_path)\n",
    "        \n",
    "    local_snapshot_paths[collection] = paths\n",
    "\n",
    "local_snapshot_paths"
   ]
  },
  {
   "cell_type": "markdown",
   "metadata": {},
   "source": [
    "# Import local snapshots"
   ]
  },
  {
   "cell_type": "code",
   "execution_count": null,
   "metadata": {},
   "outputs": [],
   "source": [
    "NODE_URL = 'https://qdrant.srv.instrukt.ai'\n",
    "\n",
    "for collection in collections:\n",
    "    paths = local_snapshot_paths[collection]\n",
    "    for snapshot_path in paths:\n",
    "        snapshot_name = os.path.basename(snapshot_path)\n",
    "        requests.post(\n",
    "            f\"{NODE_URL}/collections/{collection}/snapshots/upload?priority=snapshot\",\n",
    "            headers={\n",
    "                \"api-key\": QDRANT_API_KEY,\n",
    "            },\n",
    "            files={\"snapshot\": (snapshot_name, open(snapshot_path, \"rb\"))},\n",
    "        )"
   ]
  }
 ],
 "metadata": {
  "kernelspec": {
   "display_name": ".venv",
   "language": "python",
   "name": "python3"
  },
  "language_info": {
   "codemirror_mode": {
    "name": "ipython",
    "version": 3
   },
   "file_extension": ".py",
   "mimetype": "text/x-python",
   "name": "python",
   "nbconvert_exporter": "python",
   "pygments_lexer": "ipython3",
   "version": "3.11.6"
  }
 },
 "nbformat": 4,
 "nbformat_minor": 2
}
